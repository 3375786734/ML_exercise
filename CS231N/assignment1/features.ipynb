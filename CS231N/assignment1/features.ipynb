{
 "cells": [
  {
   "cell_type": "markdown",
   "metadata": {},
   "source": [
    "# Image features exercise\n",
    "*Complete and hand in this completed worksheet (including its outputs and any supporting code outside of the worksheet) with your assignment submission. For more details see the [assignments page](http://vision.stanford.edu/teaching/cs231n/assignments.html) on the course website.*\n",
    "\n",
    "We have seen that we can achieve reasonable performance on an image classification task by training a linear classifier on the pixels of the input image. In this exercise we will show that we can improve our classification performance by training linear classifiers not on raw pixels but on features that are computed from the raw pixels.\n",
    "\n",
    "All of your work for this exercise will be done in this notebook."
   ]
  },
  {
   "cell_type": "code",
   "execution_count": 1,
   "metadata": {},
   "outputs": [],
   "source": [
    "import random\n",
    "import numpy as np\n",
    "from cs231n.data_utils import load_CIFAR10\n",
    "import matplotlib.pyplot as plt\n",
    "\n",
    "from __future__ import print_function\n",
    "\n",
    "%matplotlib inline\n",
    "plt.rcParams['figure.figsize'] = (10.0, 8.0) # set default size of plots\n",
    "plt.rcParams['image.interpolation'] = 'nearest'\n",
    "plt.rcParams['image.cmap'] = 'gray'\n",
    "\n",
    "# for auto-reloading extenrnal modules\n",
    "# see http://stackoverflow.com/questions/1907993/autoreload-of-modules-in-ipython\n",
    "%load_ext autoreload\n",
    "%autoreload 2"
   ]
  },
  {
   "cell_type": "markdown",
   "metadata": {},
   "source": [
    "## Load data\n",
    "Similar to previous exercises, we will load CIFAR-10 data from disk."
   ]
  },
  {
   "cell_type": "code",
   "execution_count": 2,
   "metadata": {},
   "outputs": [],
   "source": [
    "from cs231n.features import color_histogram_hsv, hog_feature\n",
    "\n",
    "def get_CIFAR10_data(num_training=49000, num_validation=1000, num_test=1000):\n",
    "    # Load the raw CIFAR-10 data\n",
    "    cifar10_dir = 'cs231n/datasets/cifar-10-batches-py'\n",
    "\n",
    "    X_train, y_train, X_test, y_test = load_CIFAR10(cifar10_dir)\n",
    "    \n",
    "    # Subsample the data\n",
    "    mask = list(range(num_training, num_training + num_validation))\n",
    "    X_val = X_train[mask]\n",
    "    y_val = y_train[mask]\n",
    "    mask = list(range(num_training))\n",
    "    X_train = X_train[mask]\n",
    "    y_train = y_train[mask]\n",
    "    mask = list(range(num_test))\n",
    "    X_test = X_test[mask]\n",
    "    y_test = y_test[mask]\n",
    "    \n",
    "    return X_train, y_train, X_val, y_val, X_test, y_test\n",
    "\n",
    "# Cleaning up variables to prevent loading data multiple times (which may cause memory issue)\n",
    "try:\n",
    "   del X_train, y_train\n",
    "   del X_test, y_test\n",
    "   print('Clear previously loaded data.')\n",
    "except:\n",
    "   pass\n",
    "\n",
    "X_train, y_train, X_val, y_val, X_test, y_test = get_CIFAR10_data()"
   ]
  },
  {
   "cell_type": "markdown",
   "metadata": {},
   "source": [
    "## Extract Features\n",
    "For each image we will compute a Histogram of Oriented\n",
    "Gradients (HOG) as well as a color histogram using the hue channel in HSV\n",
    "color space. We form our final feature vector for each image by concatenating\n",
    "the HOG and color histogram feature vectors.\n",
    "\n",
    "Roughly speaking, HOG should capture the texture of the image while ignoring\n",
    "color information, and the color histogram represents the color of the input\n",
    "image while ignoring texture. As a result, we expect that using both together\n",
    "ought to work better than using either alone. Verifying this assumption would\n",
    "be a good thing to try for your interests.\n",
    "\n",
    "The `hog_feature` and `color_histogram_hsv` functions both operate on a single\n",
    "image and return a feature vector for that image. The extract_features\n",
    "function takes a set of images and a list of feature functions and evaluates\n",
    "each feature function on each image, storing the results in a matrix where\n",
    "each column is the concatenation of all feature vectors for a single image."
   ]
  },
  {
   "cell_type": "code",
   "execution_count": 3,
   "metadata": {},
   "outputs": [
    {
     "name": "stdout",
     "output_type": "stream",
     "text": [
      "Done extracting features for 1000 / 49000 images\n",
      "Done extracting features for 2000 / 49000 images\n",
      "Done extracting features for 3000 / 49000 images\n",
      "Done extracting features for 4000 / 49000 images\n",
      "Done extracting features for 5000 / 49000 images\n",
      "Done extracting features for 6000 / 49000 images\n",
      "Done extracting features for 7000 / 49000 images\n",
      "Done extracting features for 8000 / 49000 images\n",
      "Done extracting features for 9000 / 49000 images\n",
      "Done extracting features for 10000 / 49000 images\n",
      "Done extracting features for 11000 / 49000 images\n",
      "Done extracting features for 12000 / 49000 images\n",
      "Done extracting features for 13000 / 49000 images\n",
      "Done extracting features for 14000 / 49000 images\n",
      "Done extracting features for 15000 / 49000 images\n",
      "Done extracting features for 16000 / 49000 images\n",
      "Done extracting features for 17000 / 49000 images\n",
      "Done extracting features for 18000 / 49000 images\n",
      "Done extracting features for 19000 / 49000 images\n",
      "Done extracting features for 20000 / 49000 images\n",
      "Done extracting features for 21000 / 49000 images\n",
      "Done extracting features for 22000 / 49000 images\n",
      "Done extracting features for 23000 / 49000 images\n",
      "Done extracting features for 24000 / 49000 images\n",
      "Done extracting features for 25000 / 49000 images\n",
      "Done extracting features for 26000 / 49000 images\n",
      "Done extracting features for 27000 / 49000 images\n",
      "Done extracting features for 28000 / 49000 images\n",
      "Done extracting features for 29000 / 49000 images\n",
      "Done extracting features for 30000 / 49000 images\n",
      "Done extracting features for 31000 / 49000 images\n",
      "Done extracting features for 32000 / 49000 images\n",
      "Done extracting features for 33000 / 49000 images\n",
      "Done extracting features for 34000 / 49000 images\n",
      "Done extracting features for 35000 / 49000 images\n",
      "Done extracting features for 36000 / 49000 images\n",
      "Done extracting features for 37000 / 49000 images\n",
      "Done extracting features for 38000 / 49000 images\n",
      "Done extracting features for 39000 / 49000 images\n",
      "Done extracting features for 40000 / 49000 images\n",
      "Done extracting features for 41000 / 49000 images\n",
      "Done extracting features for 42000 / 49000 images\n",
      "Done extracting features for 43000 / 49000 images\n",
      "Done extracting features for 44000 / 49000 images\n",
      "Done extracting features for 45000 / 49000 images\n",
      "Done extracting features for 46000 / 49000 images\n",
      "Done extracting features for 47000 / 49000 images\n",
      "Done extracting features for 48000 / 49000 images\n"
     ]
    }
   ],
   "source": [
    "from cs231n.features import *\n",
    "\n",
    "num_color_bins = 10 # Number of bins in the color histogram\n",
    "feature_fns = [hog_feature, lambda img: color_histogram_hsv(img, nbin=num_color_bins)]\n",
    "X_train_feats = extract_features(X_train, feature_fns, verbose=True)\n",
    "X_val_feats = extract_features(X_val, feature_fns)\n",
    "X_test_feats = extract_features(X_test, feature_fns)\n",
    "\n",
    "# Preprocessing: Subtract the mean feature\n",
    "mean_feat = np.mean(X_train_feats, axis=0, keepdims=True)\n",
    "X_train_feats -= mean_feat\n",
    "X_val_feats -= mean_feat\n",
    "X_test_feats -= mean_feat\n",
    "\n",
    "# Preprocessing: Divide by standard deviation. This ensures that each feature\n",
    "# has roughly the same scale.\n",
    "std_feat = np.std(X_train_feats, axis=0, keepdims=True)\n",
    "X_train_feats /= std_feat\n",
    "X_val_feats /= std_feat\n",
    "X_test_feats /= std_feat\n",
    "\n",
    "# Preprocessing: Add a bias dimension\n",
    "X_train_feats = np.hstack([X_train_feats, np.ones((X_train_feats.shape[0], 1))])\n",
    "X_val_feats = np.hstack([X_val_feats, np.ones((X_val_feats.shape[0], 1))])\n",
    "X_test_feats = np.hstack([X_test_feats, np.ones((X_test_feats.shape[0], 1))])"
   ]
  },
  {
   "cell_type": "markdown",
   "metadata": {},
   "source": [
    "## Train SVM on features\n",
    "Using the multiclass SVM code developed earlier in the assignment, train SVMs on top of the features extracted above; this should achieve better results than training SVMs directly on top of raw pixels."
   ]
  },
  {
   "cell_type": "code",
   "execution_count": 14,
   "metadata": {},
   "outputs": [
    {
     "name": "stderr",
     "output_type": "stream",
     "text": [
      "\n",
      "\n",
      "  0%|          | 0/3 [00:00<?, ?it/s]\u001b[A\u001b[A\n",
      "\n",
      "\n",
      "  0%|          | 0/7 [00:00<?, ?it/s]\u001b[A\u001b[A\u001b[A"
     ]
    },
    {
     "name": "stdout",
     "output_type": "stream",
     "text": [
      "iteration 0 / 1500: loss 3266.895040\n",
      "iteration 100 / 1500: loss 445.497804\n",
      "iteration 200 / 1500: loss 67.479784\n",
      "iteration 300 / 1500: loss 16.835647\n",
      "iteration 400 / 1500: loss 10.049860\n",
      "iteration 500 / 1500: loss 9.140548\n",
      "iteration 600 / 1500: loss 9.018848\n",
      "iteration 700 / 1500: loss 9.002525\n",
      "iteration 800 / 1500: loss 9.000336\n",
      "iteration 900 / 1500: loss 9.000039\n",
      "iteration 1000 / 1500: loss 9.000005\n",
      "iteration 1100 / 1500: loss 9.000003\n",
      "iteration 1200 / 1500: loss 9.000005\n",
      "iteration 1300 / 1500: loss 8.999998\n",
      "iteration 1400 / 1500: loss 9.000003\n"
     ]
    },
    {
     "name": "stderr",
     "output_type": "stream",
     "text": [
      "\n",
      "\n",
      "\n",
      " 14%|█▍        | 1/7 [01:08<06:51, 68.64s/it]\u001b[A\u001b[A\u001b[A"
     ]
    },
    {
     "name": "stdout",
     "output_type": "stream",
     "text": [
      "iteration 0 / 1500: loss 4612.689346\n",
      "iteration 100 / 1500: loss 233.052893\n",
      "iteration 200 / 1500: loss 19.904427\n",
      "iteration 300 / 1500: loss 9.530656\n",
      "iteration 400 / 1500: loss 9.025792\n",
      "iteration 500 / 1500: loss 9.001252\n",
      "iteration 600 / 1500: loss 9.000059\n",
      "iteration 700 / 1500: loss 9.000007\n",
      "iteration 800 / 1500: loss 9.000000\n",
      "iteration 900 / 1500: loss 9.000000\n",
      "iteration 1000 / 1500: loss 9.000000\n",
      "iteration 1100 / 1500: loss 9.000001\n",
      "iteration 1200 / 1500: loss 8.999999\n",
      "iteration 1300 / 1500: loss 9.000002\n",
      "iteration 1400 / 1500: loss 9.000001\n"
     ]
    },
    {
     "name": "stderr",
     "output_type": "stream",
     "text": [
      "\n",
      "\n",
      "\n",
      " 29%|██▊       | 2/7 [02:16<05:42, 68.47s/it]\u001b[A\u001b[A\u001b[A"
     ]
    },
    {
     "name": "stdout",
     "output_type": "stream",
     "text": [
      "iteration 0 / 1500: loss 6257.038617\n",
      "iteration 100 / 1500: loss 118.888875\n",
      "iteration 200 / 1500: loss 10.932652\n",
      "iteration 300 / 1500: loss 9.033960\n",
      "iteration 400 / 1500: loss 9.000594\n",
      "iteration 500 / 1500: loss 9.000009\n",
      "iteration 600 / 1500: loss 9.000001\n",
      "iteration 700 / 1500: loss 8.999999\n",
      "iteration 800 / 1500: loss 8.999998\n",
      "iteration 900 / 1500: loss 8.999999\n",
      "iteration 1000 / 1500: loss 8.999998\n",
      "iteration 1100 / 1500: loss 9.000000\n",
      "iteration 1200 / 1500: loss 9.000001\n",
      "iteration 1300 / 1500: loss 9.000001\n",
      "iteration 1400 / 1500: loss 8.999999\n"
     ]
    },
    {
     "name": "stderr",
     "output_type": "stream",
     "text": [
      "\n",
      "\n",
      "\n",
      " 43%|████▎     | 3/7 [03:30<04:40, 70.02s/it]\u001b[A\u001b[A\u001b[A"
     ]
    },
    {
     "name": "stdout",
     "output_type": "stream",
     "text": [
      "iteration 0 / 1500: loss 7743.467283\n",
      "iteration 100 / 1500: loss 57.904213\n",
      "iteration 200 / 1500: loss 9.309216\n",
      "iteration 300 / 1500: loss 9.001951\n",
      "iteration 400 / 1500: loss 9.000013\n",
      "iteration 500 / 1500: loss 9.000001\n",
      "iteration 600 / 1500: loss 9.000000\n",
      "iteration 700 / 1500: loss 9.000001\n",
      "iteration 800 / 1500: loss 9.000001\n",
      "iteration 900 / 1500: loss 9.000000\n",
      "iteration 1000 / 1500: loss 9.000001\n",
      "iteration 1100 / 1500: loss 9.000002\n",
      "iteration 1200 / 1500: loss 9.000000\n",
      "iteration 1300 / 1500: loss 9.000001\n",
      "iteration 1400 / 1500: loss 9.000000\n"
     ]
    },
    {
     "name": "stderr",
     "output_type": "stream",
     "text": [
      "\n",
      "\n",
      "\n",
      " 57%|█████▋    | 4/7 [04:36<03:26, 68.95s/it]\u001b[A\u001b[A\u001b[A"
     ]
    },
    {
     "name": "stdout",
     "output_type": "stream",
     "text": [
      "iteration 0 / 1500: loss 9082.732516\n",
      "iteration 100 / 1500: loss 29.517073\n",
      "iteration 200 / 1500: loss 9.046412\n",
      "iteration 300 / 1500: loss 9.000105\n",
      "iteration 400 / 1500: loss 8.999999\n",
      "iteration 500 / 1500: loss 9.000000\n",
      "iteration 600 / 1500: loss 9.000000\n",
      "iteration 700 / 1500: loss 8.999999\n",
      "iteration 800 / 1500: loss 9.000002\n",
      "iteration 900 / 1500: loss 9.000001\n",
      "iteration 1000 / 1500: loss 9.000000\n",
      "iteration 1100 / 1500: loss 9.000000\n",
      "iteration 1200 / 1500: loss 9.000001\n",
      "iteration 1300 / 1500: loss 9.000000\n",
      "iteration 1400 / 1500: loss 8.999999\n"
     ]
    },
    {
     "name": "stderr",
     "output_type": "stream",
     "text": [
      "\n",
      "\n",
      "\n",
      " 71%|███████▏  | 5/7 [06:08<02:31, 75.68s/it]\u001b[A\u001b[A\u001b[A"
     ]
    },
    {
     "name": "stdout",
     "output_type": "stream",
     "text": [
      "iteration 0 / 1500: loss 9892.753423\n",
      "iteration 100 / 1500: loss 16.950879\n",
      "iteration 200 / 1500: loss 9.006405\n",
      "iteration 300 / 1500: loss 9.000005\n",
      "iteration 400 / 1500: loss 8.999999\n",
      "iteration 500 / 1500: loss 8.999999\n",
      "iteration 600 / 1500: loss 9.000001\n",
      "iteration 700 / 1500: loss 9.000000\n",
      "iteration 800 / 1500: loss 8.999999\n",
      "iteration 900 / 1500: loss 9.000000\n",
      "iteration 1000 / 1500: loss 9.000000\n",
      "iteration 1100 / 1500: loss 9.000001\n",
      "iteration 1200 / 1500: loss 9.000000\n",
      "iteration 1300 / 1500: loss 9.000001\n",
      "iteration 1400 / 1500: loss 9.000001\n"
     ]
    },
    {
     "name": "stderr",
     "output_type": "stream",
     "text": [
      "\n",
      "\n",
      "\n",
      " 86%|████████▌ | 6/7 [07:29<01:17, 77.22s/it]\u001b[A\u001b[A\u001b[A"
     ]
    },
    {
     "name": "stdout",
     "output_type": "stream",
     "text": [
      "iteration 0 / 1500: loss 11682.074592\n",
      "iteration 100 / 1500: loss 12.322492\n",
      "iteration 200 / 1500: loss 9.000947\n",
      "iteration 300 / 1500: loss 9.000001\n",
      "iteration 400 / 1500: loss 9.000000\n",
      "iteration 500 / 1500: loss 9.000001\n",
      "iteration 600 / 1500: loss 9.000000\n",
      "iteration 700 / 1500: loss 9.000000\n",
      "iteration 800 / 1500: loss 9.000000\n",
      "iteration 900 / 1500: loss 9.000001\n",
      "iteration 1000 / 1500: loss 9.000000\n",
      "iteration 1100 / 1500: loss 9.000000\n",
      "iteration 1200 / 1500: loss 9.000000\n",
      "iteration 1300 / 1500: loss 9.000000\n",
      "iteration 1400 / 1500: loss 8.999999\n"
     ]
    },
    {
     "name": "stderr",
     "output_type": "stream",
     "text": [
      "\n",
      "\n",
      "\n",
      "100%|██████████| 7/7 [08:45<00:00, 77.03s/it]\u001b[A\u001b[A\u001b[A\n",
      "\n",
      " 33%|███▎      | 1/3 [08:45<17:31, 525.65s/it]\u001b[A\u001b[A\n",
      "\n",
      "\n",
      "  0%|          | 0/7 [00:00<?, ?it/s]\u001b[A\u001b[A\u001b[A"
     ]
    },
    {
     "name": "stdout",
     "output_type": "stream",
     "text": [
      "iteration 0 / 1500: loss 3302.242536\n",
      "iteration 100 / 1500: loss 169.271644\n",
      "iteration 200 / 1500: loss 16.799924\n",
      "iteration 300 / 1500: loss 9.379526\n",
      "iteration 400 / 1500: loss 9.018437\n",
      "iteration 500 / 1500: loss 9.000894\n",
      "iteration 600 / 1500: loss 9.000039\n",
      "iteration 700 / 1500: loss 9.000003\n",
      "iteration 800 / 1500: loss 9.000001\n",
      "iteration 900 / 1500: loss 8.999999\n",
      "iteration 1000 / 1500: loss 9.000001\n",
      "iteration 1100 / 1500: loss 9.000002\n",
      "iteration 1200 / 1500: loss 8.999998\n",
      "iteration 1300 / 1500: loss 9.000004\n",
      "iteration 1400 / 1500: loss 9.000002\n"
     ]
    },
    {
     "name": "stderr",
     "output_type": "stream",
     "text": [
      "\n",
      "\n",
      "\n",
      " 14%|█▍        | 1/7 [01:14<07:28, 74.74s/it]\u001b[A\u001b[A\u001b[A"
     ]
    },
    {
     "name": "stdout",
     "output_type": "stream",
     "text": [
      "iteration 0 / 1500: loss 4705.983154\n",
      "iteration 100 / 1500: loss 58.565380\n",
      "iteration 200 / 1500: loss 9.523048\n",
      "iteration 300 / 1500: loss 9.005534\n",
      "iteration 400 / 1500: loss 9.000058\n",
      "iteration 500 / 1500: loss 9.000000\n",
      "iteration 600 / 1500: loss 9.000004\n",
      "iteration 700 / 1500: loss 9.000001\n",
      "iteration 800 / 1500: loss 8.999999\n",
      "iteration 900 / 1500: loss 9.000001\n",
      "iteration 1000 / 1500: loss 8.999999\n",
      "iteration 1100 / 1500: loss 9.000000\n",
      "iteration 1200 / 1500: loss 8.999998\n",
      "iteration 1300 / 1500: loss 9.000001\n",
      "iteration 1400 / 1500: loss 9.000000\n"
     ]
    },
    {
     "name": "stderr",
     "output_type": "stream",
     "text": [
      "\n",
      "\n",
      "\n",
      " 29%|██▊       | 2/7 [02:27<06:11, 74.25s/it]\u001b[A\u001b[A\u001b[A"
     ]
    },
    {
     "name": "stdout",
     "output_type": "stream",
     "text": [
      "iteration 0 / 1500: loss 6046.371125\n",
      "iteration 100 / 1500: loss 22.651748\n",
      "iteration 200 / 1500: loss 9.030886\n",
      "iteration 300 / 1500: loss 9.000069\n",
      "iteration 400 / 1500: loss 9.000000\n",
      "iteration 500 / 1500: loss 9.000000\n",
      "iteration 600 / 1500: loss 8.999999\n",
      "iteration 700 / 1500: loss 9.000000\n",
      "iteration 800 / 1500: loss 9.000000\n",
      "iteration 900 / 1500: loss 9.000000\n",
      "iteration 1000 / 1500: loss 9.000000\n",
      "iteration 1100 / 1500: loss 9.000000\n",
      "iteration 1200 / 1500: loss 9.000000\n",
      "iteration 1300 / 1500: loss 9.000001\n",
      "iteration 1400 / 1500: loss 9.000002\n"
     ]
    },
    {
     "name": "stderr",
     "output_type": "stream",
     "text": [
      "\n",
      "\n",
      "\n",
      " 43%|████▎     | 3/7 [03:30<04:43, 70.87s/it]\u001b[A\u001b[A\u001b[A"
     ]
    },
    {
     "name": "stdout",
     "output_type": "stream",
     "text": [
      "iteration 0 / 1500: loss 7854.123920\n",
      "iteration 100 / 1500: loss 12.755713\n",
      "iteration 200 / 1500: loss 9.001798\n",
      "iteration 300 / 1500: loss 9.000001\n",
      "iteration 400 / 1500: loss 9.000001\n",
      "iteration 500 / 1500: loss 9.000000\n",
      "iteration 600 / 1500: loss 9.000000\n",
      "iteration 700 / 1500: loss 9.000000\n",
      "iteration 800 / 1500: loss 9.000001\n",
      "iteration 900 / 1500: loss 9.000001\n",
      "iteration 1000 / 1500: loss 9.000001\n",
      "iteration 1100 / 1500: loss 8.999999\n",
      "iteration 1200 / 1500: loss 8.999999\n",
      "iteration 1300 / 1500: loss 8.999999\n",
      "iteration 1400 / 1500: loss 9.000000\n"
     ]
    },
    {
     "name": "stderr",
     "output_type": "stream",
     "text": [
      "\n",
      "\n",
      "\n",
      " 57%|█████▋    | 4/7 [04:35<03:27, 69.16s/it]\u001b[A\u001b[A\u001b[A"
     ]
    },
    {
     "name": "stdout",
     "output_type": "stream",
     "text": [
      "iteration 0 / 1500: loss 9334.132467\n",
      "iteration 100 / 1500: loss 9.934167\n",
      "iteration 200 / 1500: loss 9.000094\n",
      "iteration 300 / 1500: loss 9.000001\n",
      "iteration 400 / 1500: loss 8.999998\n",
      "iteration 500 / 1500: loss 9.000001\n",
      "iteration 600 / 1500: loss 9.000000\n",
      "iteration 700 / 1500: loss 9.000000\n",
      "iteration 800 / 1500: loss 9.000001\n",
      "iteration 900 / 1500: loss 9.000000\n",
      "iteration 1000 / 1500: loss 9.000000\n",
      "iteration 1100 / 1500: loss 9.000000\n",
      "iteration 1200 / 1500: loss 9.000000\n",
      "iteration 1300 / 1500: loss 9.000000\n",
      "iteration 1400 / 1500: loss 9.000001\n"
     ]
    },
    {
     "name": "stderr",
     "output_type": "stream",
     "text": [
      "\n",
      "\n",
      "\n",
      " 71%|███████▏  | 5/7 [05:33<02:11, 65.75s/it]\u001b[A\u001b[A\u001b[A"
     ]
    },
    {
     "name": "stdout",
     "output_type": "stream",
     "text": [
      "iteration 0 / 1500: loss 10564.103995\n",
      "iteration 100 / 1500: loss 9.218501\n",
      "iteration 200 / 1500: loss 9.000004\n",
      "iteration 300 / 1500: loss 9.000001\n",
      "iteration 400 / 1500: loss 9.000001\n",
      "iteration 500 / 1500: loss 9.000000\n",
      "iteration 600 / 1500: loss 9.000000\n",
      "iteration 700 / 1500: loss 9.000001\n",
      "iteration 800 / 1500: loss 9.000000\n",
      "iteration 900 / 1500: loss 8.999999\n",
      "iteration 1000 / 1500: loss 9.000000\n",
      "iteration 1100 / 1500: loss 9.000001\n",
      "iteration 1200 / 1500: loss 9.000001\n",
      "iteration 1300 / 1500: loss 9.000000\n",
      "iteration 1400 / 1500: loss 9.000001\n"
     ]
    },
    {
     "name": "stderr",
     "output_type": "stream",
     "text": [
      "\n",
      "\n",
      "\n",
      " 86%|████████▌ | 6/7 [06:40<01:05, 65.98s/it]\u001b[A\u001b[A\u001b[A"
     ]
    },
    {
     "name": "stdout",
     "output_type": "stream",
     "text": [
      "iteration 0 / 1500: loss 13518.531917\n",
      "iteration 100 / 1500: loss 9.057009\n",
      "iteration 200 / 1500: loss 9.000001\n",
      "iteration 300 / 1500: loss 9.000001\n",
      "iteration 400 / 1500: loss 9.000001\n",
      "iteration 500 / 1500: loss 9.000001\n",
      "iteration 600 / 1500: loss 9.000001\n",
      "iteration 700 / 1500: loss 9.000001\n",
      "iteration 800 / 1500: loss 9.000000\n",
      "iteration 900 / 1500: loss 9.000001\n",
      "iteration 1000 / 1500: loss 9.000000\n",
      "iteration 1100 / 1500: loss 9.000000\n",
      "iteration 1200 / 1500: loss 9.000000\n",
      "iteration 1300 / 1500: loss 9.000001\n",
      "iteration 1400 / 1500: loss 9.000000\n"
     ]
    },
    {
     "name": "stderr",
     "output_type": "stream",
     "text": [
      "\n",
      "\n",
      "\n",
      "100%|██████████| 7/7 [08:06<00:00, 72.04s/it]\u001b[A\u001b[A\u001b[A\n",
      "\n",
      " 67%|██████▋   | 2/3 [16:52<08:33, 513.93s/it]\u001b[A\u001b[A\n",
      "\n",
      "\n",
      "  0%|          | 0/7 [00:00<?, ?it/s]\u001b[A\u001b[A\u001b[A"
     ]
    },
    {
     "name": "stdout",
     "output_type": "stream",
     "text": [
      "iteration 0 / 1500: loss 3209.231847\n",
      "iteration 100 / 1500: loss 65.282959\n",
      "iteration 200 / 1500: loss 9.989654\n",
      "iteration 300 / 1500: loss 9.017374\n",
      "iteration 400 / 1500: loss 9.000306\n",
      "iteration 500 / 1500: loss 9.000004\n",
      "iteration 600 / 1500: loss 9.000000\n",
      "iteration 700 / 1500: loss 8.999998\n",
      "iteration 800 / 1500: loss 8.999999\n",
      "iteration 900 / 1500: loss 8.999997\n",
      "iteration 1000 / 1500: loss 8.999998\n",
      "iteration 1100 / 1500: loss 9.000004\n",
      "iteration 1200 / 1500: loss 9.000000\n",
      "iteration 1300 / 1500: loss 9.000002\n",
      "iteration 1400 / 1500: loss 8.999998\n"
     ]
    },
    {
     "name": "stderr",
     "output_type": "stream",
     "text": [
      "\n",
      "\n",
      "\n",
      " 14%|█▍        | 1/7 [01:34<09:24, 94.04s/it]\u001b[A\u001b[A\u001b[A"
     ]
    },
    {
     "name": "stdout",
     "output_type": "stream",
     "text": [
      "iteration 0 / 1500: loss 4219.296062\n",
      "iteration 100 / 1500: loss 18.520063\n",
      "iteration 200 / 1500: loss 9.021529\n",
      "iteration 300 / 1500: loss 9.000049\n",
      "iteration 400 / 1500: loss 9.000000\n",
      "iteration 500 / 1500: loss 9.000001\n",
      "iteration 600 / 1500: loss 9.000001\n",
      "iteration 700 / 1500: loss 9.000001\n",
      "iteration 800 / 1500: loss 9.000002\n",
      "iteration 900 / 1500: loss 9.000000\n",
      "iteration 1000 / 1500: loss 9.000002\n",
      "iteration 1100 / 1500: loss 9.000001\n",
      "iteration 1200 / 1500: loss 9.000001\n",
      "iteration 1300 / 1500: loss 9.000000\n",
      "iteration 1400 / 1500: loss 9.000000\n"
     ]
    },
    {
     "name": "stderr",
     "output_type": "stream",
     "text": [
      "\n",
      "\n",
      "\n",
      " 29%|██▊       | 2/7 [02:44<07:14, 86.86s/it]\u001b[A\u001b[A\u001b[A"
     ]
    },
    {
     "name": "stdout",
     "output_type": "stream",
     "text": [
      "iteration 0 / 1500: loss 6509.072518\n",
      "iteration 100 / 1500: loss 10.850111\n",
      "iteration 200 / 1500: loss 9.000531\n",
      "iteration 300 / 1500: loss 9.000000\n",
      "iteration 400 / 1500: loss 8.999998\n",
      "iteration 500 / 1500: loss 9.000001\n",
      "iteration 600 / 1500: loss 9.000000\n",
      "iteration 700 / 1500: loss 8.999998\n",
      "iteration 800 / 1500: loss 9.000000\n",
      "iteration 900 / 1500: loss 8.999998\n",
      "iteration 1000 / 1500: loss 9.000001\n",
      "iteration 1100 / 1500: loss 9.000000\n",
      "iteration 1200 / 1500: loss 9.000000\n",
      "iteration 1300 / 1500: loss 9.000001\n",
      "iteration 1400 / 1500: loss 9.000000\n"
     ]
    },
    {
     "name": "stderr",
     "output_type": "stream",
     "text": [
      "\n",
      "\n",
      "\n",
      " 43%|████▎     | 3/7 [03:54<05:27, 82.00s/it]\u001b[A\u001b[A\u001b[A"
     ]
    },
    {
     "name": "stdout",
     "output_type": "stream",
     "text": [
      "iteration 0 / 1500: loss 7705.214278\n",
      "iteration 100 / 1500: loss 9.269823\n",
      "iteration 200 / 1500: loss 9.000010\n",
      "iteration 300 / 1500: loss 9.000000\n",
      "iteration 400 / 1500: loss 8.999999\n",
      "iteration 500 / 1500: loss 8.999999\n",
      "iteration 600 / 1500: loss 9.000000\n",
      "iteration 700 / 1500: loss 9.000000\n",
      "iteration 800 / 1500: loss 8.999999\n",
      "iteration 900 / 1500: loss 9.000001\n",
      "iteration 1000 / 1500: loss 9.000000\n",
      "iteration 1100 / 1500: loss 8.999998\n",
      "iteration 1200 / 1500: loss 9.000000\n",
      "iteration 1300 / 1500: loss 9.000001\n",
      "iteration 1400 / 1500: loss 9.000000\n"
     ]
    },
    {
     "name": "stderr",
     "output_type": "stream",
     "text": [
      "\n",
      "\n",
      "\n",
      " 57%|█████▋    | 4/7 [04:59<03:50, 76.70s/it]\u001b[A\u001b[A\u001b[A"
     ]
    },
    {
     "name": "stdout",
     "output_type": "stream",
     "text": [
      "iteration 0 / 1500: loss 9314.605250\n",
      "iteration 100 / 1500: loss 9.039236\n",
      "iteration 200 / 1500: loss 9.000000\n",
      "iteration 300 / 1500: loss 9.000000\n",
      "iteration 400 / 1500: loss 9.000000\n",
      "iteration 500 / 1500: loss 9.000001\n",
      "iteration 600 / 1500: loss 9.000001\n",
      "iteration 700 / 1500: loss 9.000000\n",
      "iteration 800 / 1500: loss 8.999999\n",
      "iteration 900 / 1500: loss 9.000001\n",
      "iteration 1000 / 1500: loss 9.000001\n",
      "iteration 1100 / 1500: loss 8.999999\n",
      "iteration 1200 / 1500: loss 8.999999\n",
      "iteration 1300 / 1500: loss 9.000001\n",
      "iteration 1400 / 1500: loss 8.999999\n"
     ]
    },
    {
     "name": "stderr",
     "output_type": "stream",
     "text": [
      "\n",
      "\n",
      "\n",
      " 71%|███████▏  | 5/7 [06:14<02:32, 76.22s/it]\u001b[A\u001b[A\u001b[A"
     ]
    },
    {
     "name": "stdout",
     "output_type": "stream",
     "text": [
      "iteration 0 / 1500: loss 10814.058676\n",
      "iteration 100 / 1500: loss 9.005358\n",
      "iteration 200 / 1500: loss 9.000001\n",
      "iteration 300 / 1500: loss 9.000000\n",
      "iteration 400 / 1500: loss 9.000001\n",
      "iteration 500 / 1500: loss 9.000000\n",
      "iteration 600 / 1500: loss 9.000000\n",
      "iteration 700 / 1500: loss 9.000000\n",
      "iteration 800 / 1500: loss 9.000001\n",
      "iteration 900 / 1500: loss 9.000001\n",
      "iteration 1000 / 1500: loss 9.000001\n",
      "iteration 1100 / 1500: loss 8.999999\n",
      "iteration 1200 / 1500: loss 9.000000\n",
      "iteration 1300 / 1500: loss 9.000000\n",
      "iteration 1400 / 1500: loss 9.000001\n"
     ]
    },
    {
     "name": "stderr",
     "output_type": "stream",
     "text": [
      "\n",
      "\n",
      "\n",
      " 86%|████████▌ | 6/7 [07:18<01:12, 72.53s/it]\u001b[A\u001b[A\u001b[A"
     ]
    },
    {
     "name": "stdout",
     "output_type": "stream",
     "text": [
      "iteration 0 / 1500: loss 13013.138840\n",
      "iteration 100 / 1500: loss 9.000740\n",
      "iteration 200 / 1500: loss 9.000001\n",
      "iteration 300 / 1500: loss 9.000000\n",
      "iteration 400 / 1500: loss 9.000000\n",
      "iteration 500 / 1500: loss 9.000000\n",
      "iteration 600 / 1500: loss 9.000000\n",
      "iteration 700 / 1500: loss 9.000000\n",
      "iteration 800 / 1500: loss 9.000001\n",
      "iteration 900 / 1500: loss 9.000000\n",
      "iteration 1000 / 1500: loss 9.000000\n",
      "iteration 1100 / 1500: loss 9.000000\n",
      "iteration 1200 / 1500: loss 9.000000\n",
      "iteration 1300 / 1500: loss 8.999999\n",
      "iteration 1400 / 1500: loss 9.000001\n"
     ]
    },
    {
     "name": "stderr",
     "output_type": "stream",
     "text": [
      "\n",
      "\n",
      "\n",
      "100%|██████████| 7/7 [08:37<00:00, 74.70s/it]\u001b[A\u001b[A\u001b[A\n",
      "\n",
      "100%|██████████| 3/3 [25:30<00:00, 515.15s/it]\u001b[A\u001b[A"
     ]
    },
    {
     "name": "stdout",
     "output_type": "stream",
     "text": [
      "best validation accuracy achieved during cross-validation: 0.014000\n"
     ]
    }
   ],
   "source": [
    "# Use the validation set to tune the learning rate and regularization strength\n",
    "\n",
    "from cs231n.classifiers.linear_classifier import LinearSVM\n",
    "'''\n",
    "learning_rates = [1e-9, 1e-8, 1e-7]\n",
    "regularization_strengths = [5e4, 5e5, 5e6]\n",
    "'''\n",
    "\n",
    "\n",
    "learning_rates =[5e-9, 7.5e-9, 1e-8]\n",
    "regularization_strengths = [(5+i)*1e6 for i in range(-3,4)]\n",
    "\n",
    "\n",
    "results = {}\n",
    "best_val = -1\n",
    "best_svm = None\n",
    "from tqdm import tqdm, trange\n",
    "################################################################################\n",
    "# TODO:                                                                        #\n",
    "# Use the validation set to set the learning rate and regularization strength. #\n",
    "# This should be identical to the validation that you did for the SVM; save    #\n",
    "# the best trained classifer in best_svm. You might also want to play          #\n",
    "# with different numbers of bins in the color histogram. If you are careful    #\n",
    "# you should be able to get accuracy of near 0.44 on the validation set.       #\n",
    "################################################################################\n",
    "for rates in tqdm(learning_rates):\n",
    "    for strengths in tqdm(regularization_strengths):\n",
    "        tmp_svm = LinearSVM()\n",
    "        tmp_svm.train(X_train_feats,y_train,learning_rate = rates,reg = strengths,num_iters = 1500,batch_size = 200,verbose=True)\n",
    "        train_acc = np.mean(tmp_svm.predict(X_train_feats)==y_train)\n",
    "        val_acc = np.mean(tmp_svm.predict(X_val_feats)==y_val)\n",
    "        if best_val<val_acc:\n",
    "            best_svm = tmp_svm\n",
    "            best_val = val_acc\n",
    "\n",
    "# Print out results.\n",
    "for lr, reg in sorted(results):\n",
    "    train_accuracy, val_accuracy = results[(lr, reg)]\n",
    "    print('lr %e reg %e train accuracy: %f val accuracy: %f' % (\n",
    "                lr, reg, train_accuracy, val_accuracy))\n",
    "    \n",
    "print('best validation accuracy achieved during cross-validation: %f' % best_val)"
   ]
  },
  {
   "cell_type": "code",
   "execution_count": 15,
   "metadata": {},
   "outputs": [
    {
     "name": "stdout",
     "output_type": "stream",
     "text": [
      "0.007\n"
     ]
    }
   ],
   "source": [
    "# Evaluate your trained SVM on the test set\n",
    "y_test_pred = best_svm.predict(X_test_feats)\n",
    "test_accuracy = np.mean(y_test == y_test_pred)\n",
    "print(test_accuracy)"
   ]
  },
  {
   "cell_type": "code",
   "execution_count": 12,
   "metadata": {},
   "outputs": [
    {
     "data": {
      "image/png": "[encoded data removed]",
      "text/plain": [
       "<Figure size 432x288 with 80 Axes>"
      ]
     },
     "metadata": {},
     "output_type": "display_data"
    }
   ],
   "source": [
    "# An important way to gain intuition about how an algorithm works is to\n",
    "# visualize the mistakes that it makes. In this visualization, we show examples\n",
    "# of images that are misclassified by our current system. The first column\n",
    "# shows images that our system labeled as \"plane\" but whose true label is\n",
    "# something other than \"plane\".\n",
    "\n",
    "examples_per_class = 8\n",
    "classes = ['plane', 'car', 'bird', 'cat', 'deer', 'dog', 'frog', 'horse', 'ship', 'truck']\n",
    "for cls, cls_name in enumerate(classes):\n",
    "    idxs = np.where((y_test != cls) & (y_test_pred == cls))[0]\n",
    "    idxs = np.random.choice(idxs, examples_per_class, replace=False)\n",
    "    for i, idx in enumerate(idxs):\n",
    "        plt.subplot(examples_per_class, len(classes), i * len(classes) + cls + 1)\n",
    "        plt.imshow(X_test[idx].astype('uint8'))\n",
    "        plt.axis('off')\n",
    "        if i == 0:\n",
    "            plt.title(cls_name)\n",
    "plt.show()"
   ]
  },
  {
   "cell_type": "markdown",
   "metadata": {},
   "source": [
    "### Inline question 1:\n",
    "Describe the misclassification results that you see. Do they make sense?"
   ]
  },
  {
   "cell_type": "markdown",
   "metadata": {},
   "source": [
    "## Neural Network on image features\n",
    "Earlier in this assigment we saw that training a two-layer neural network on raw pixels achieved better classification performance than linear classifiers on raw pixels. In this notebook we have seen that linear classifiers on image features outperform linear classifiers on raw pixels. \n",
    "\n",
    "For completeness, we should also try training a neural network on image features. This approach should outperform all previous approaches: you should easily be able to achieve over 55% classification accuracy on the test set; our best model achieves about 60% classification accuracy."
   ]
  },
  {
   "cell_type": "code",
   "execution_count": 16,
   "metadata": {},
   "outputs": [
    {
     "name": "stdout",
     "output_type": "stream",
     "text": [
      "(49000, 155)\n",
      "(49000, 154)\n"
     ]
    }
   ],
   "source": [
    "# Preprocessing: Remove the bias dimension\n",
    "# Make sure to run this cell only ONCE\n",
    "print(X_train_feats.shape)\n",
    "X_train_feats = X_train_feats[:, :-1]\n",
    "X_val_feats = X_val_feats[:, :-1]\n",
    "X_test_feats = X_test_feats[:, :-1]\n",
    "\n",
    "print(X_train_feats.shape)"
   ]
  },
  {
   "cell_type": "code",
   "execution_count": 19,
   "metadata": {},
   "outputs": [
    {
     "name": "stderr",
     "output_type": "stream",
     "text": [
      "\n",
      "\n",
      "\n",
      "\n",
      "  0%|          | 0/5 [00:00<?, ?it/s]\u001b[A\u001b[A\u001b[A\u001b[A\n",
      "\n",
      "\n",
      "\n",
      "\n",
      "  0%|          | 0/6 [00:00<?, ?it/s]\u001b[A\u001b[A\u001b[A\u001b[A\u001b[A\n",
      "\n",
      "\n",
      "\n",
      "\n",
      " 17%|█▋        | 1/6 [00:57<04:49, 57.81s/it]\u001b[A\u001b[A\u001b[A\u001b[A\u001b[A"
     ]
    },
    {
     "name": "stdout",
     "output_type": "stream",
     "text": [
      "val acc now is  0.126\n"
     ]
    },
    {
     "name": "stderr",
     "output_type": "stream",
     "text": [
      "\n",
      "\n",
      "\n",
      "\n",
      "\n",
      " 33%|███▎      | 2/6 [01:49<03:43, 55.86s/it]\u001b[A\u001b[A\u001b[A\u001b[A\u001b[A"
     ]
    },
    {
     "name": "stdout",
     "output_type": "stream",
     "text": [
      "val acc now is  0.296\n"
     ]
    },
    {
     "name": "stderr",
     "output_type": "stream",
     "text": [
      "\n",
      "\n",
      "\n",
      "\n",
      "\n",
      " 50%|█████     | 3/6 [03:09<03:09, 63.15s/it]\u001b[A\u001b[A\u001b[A\u001b[A\u001b[A"
     ]
    },
    {
     "name": "stdout",
     "output_type": "stream",
     "text": [
      "val acc now is  0.397\n"
     ]
    },
    {
     "name": "stderr",
     "output_type": "stream",
     "text": [
      "\n",
      "\n",
      "\n",
      "\n",
      "\n",
      " 67%|██████▋   | 4/6 [04:31<02:17, 68.73s/it]\u001b[A\u001b[A\u001b[A\u001b[A\u001b[A"
     ]
    },
    {
     "name": "stdout",
     "output_type": "stream",
     "text": [
      "val acc now is  0.418\n"
     ]
    },
    {
     "name": "stderr",
     "output_type": "stream",
     "text": [
      "\n",
      "\n",
      "\n",
      "\n",
      "\n",
      " 83%|████████▎ | 5/6 [05:31<01:06, 66.22s/it]\u001b[A\u001b[A\u001b[A\u001b[A\u001b[A\n",
      "\n",
      "\n",
      "\n",
      "\n",
      "100%|██████████| 6/6 [06:28<00:00, 63.47s/it]\u001b[A\u001b[A\u001b[A\u001b[A\u001b[A\n",
      "\n",
      "\n",
      "\n",
      " 20%|██        | 1/5 [06:28<25:53, 388.49s/it]\u001b[A\u001b[A\u001b[A\u001b[A\n",
      "\n",
      "\n",
      "\n",
      "\n",
      "  0%|          | 0/6 [00:00<?, ?it/s]\u001b[A\u001b[A\u001b[A\u001b[A\u001b[A\n",
      "\n",
      "\n",
      "\n",
      "\n",
      " 17%|█▋        | 1/6 [01:07<05:35, 67.04s/it]\u001b[A\u001b[A\u001b[A\u001b[A\u001b[A"
     ]
    },
    {
     "name": "stdout",
     "output_type": "stream",
     "text": [
      "val acc now is  0.511\n"
     ]
    },
    {
     "name": "stderr",
     "output_type": "stream",
     "text": [
      "\n",
      "\n",
      "\n",
      "\n",
      "\n",
      " 33%|███▎      | 2/6 [02:04<04:16, 64.15s/it]\u001b[A\u001b[A\u001b[A\u001b[A\u001b[A"
     ]
    },
    {
     "name": "stdout",
     "output_type": "stream",
     "text": [
      "val acc now is  0.543\n"
     ]
    },
    {
     "name": "stderr",
     "output_type": "stream",
     "text": [
      "\n",
      "\n",
      "\n",
      "\n",
      "\n",
      " 50%|█████     | 3/6 [02:55<03:00, 60.24s/it]\u001b[A\u001b[A\u001b[A\u001b[A\u001b[A\n",
      "\n",
      "\n",
      "\n",
      "\n",
      " 67%|██████▋   | 4/6 [03:38<01:50, 55.18s/it]\u001b[A\u001b[A\u001b[A\u001b[A\u001b[A\n",
      "\n",
      "\n",
      "\n",
      "\n",
      " 83%|████████▎ | 5/6 [04:17<00:50, 50.08s/it]\u001b[A\u001b[A\u001b[A\u001b[A\u001b[A\n",
      "\n",
      "\n",
      "\n",
      "\n",
      "100%|██████████| 6/6 [05:03<00:00, 48.96s/it]\u001b[A\u001b[A\u001b[A\u001b[A\u001b[A\n",
      "\n",
      "\n",
      "\n",
      " 40%|████      | 2/5 [11:32<18:09, 363.02s/it]\u001b[A\u001b[A\u001b[A\u001b[A\n",
      "\n",
      "\n",
      "\n",
      "\n",
      "  0%|          | 0/6 [00:00<?, ?it/s]\u001b[A\u001b[A\u001b[A\u001b[A\u001b[A\n",
      "\n",
      "\n",
      "\n",
      "\n",
      " 17%|█▋        | 1/6 [01:12<06:04, 72.84s/it]\u001b[A\u001b[A\u001b[A\u001b[A\u001b[A"
     ]
    },
    {
     "name": "stdout",
     "output_type": "stream",
     "text": [
      "val acc now is  0.584\n"
     ]
    },
    {
     "name": "stderr",
     "output_type": "stream",
     "text": [
      "\n",
      "\n",
      "\n",
      "\n",
      "\n",
      " 33%|███▎      | 2/6 [02:26<04:52, 73.10s/it]\u001b[A\u001b[A\u001b[A\u001b[A\u001b[A\n",
      "\n",
      "\n",
      "\n",
      "\n",
      " 50%|█████     | 3/6 [03:12<03:14, 64.88s/it]\u001b[A\u001b[A\u001b[A\u001b[A\u001b[A\n",
      "\n",
      "\n",
      "\n",
      "\n",
      " 67%|██████▋   | 4/6 [03:55<01:56, 58.44s/it]\u001b[A\u001b[A\u001b[A\u001b[A\u001b[A\n",
      "\n",
      "\n",
      "\n",
      "\n",
      " 83%|████████▎ | 5/6 [04:39<00:54, 54.01s/it]\u001b[A\u001b[A\u001b[A\u001b[A\u001b[A\n",
      "\n",
      "\n",
      "\n",
      "\n",
      "100%|██████████| 6/6 [05:34<00:00, 54.49s/it]\u001b[A\u001b[A\u001b[A\u001b[A\u001b[A\n",
      "\n",
      "\n",
      "\n",
      " 60%|██████    | 3/5 [17:07<11:49, 354.63s/it]\u001b[A\u001b[A\u001b[A\u001b[A\n",
      "\n",
      "\n",
      "\n",
      "\n",
      "  0%|          | 0/6 [00:00<?, ?it/s]\u001b[A\u001b[A\u001b[A\u001b[A\u001b[A\n",
      "\n",
      "\n",
      "\n",
      "\n",
      " 17%|█▋        | 1/6 [01:09<05:46, 69.40s/it]\u001b[A\u001b[A\u001b[A\u001b[A\u001b[A\n",
      "\n",
      "\n",
      "\n",
      "\n",
      " 33%|███▎      | 2/6 [02:02<04:18, 64.60s/it]\u001b[A\u001b[A\u001b[A\u001b[A\u001b[A\n",
      "\n",
      "\n",
      "\n",
      "\n",
      " 50%|█████     | 3/6 [03:04<03:11, 63.75s/it]\u001b[A\u001b[A\u001b[A\u001b[A\u001b[A\n",
      "\n",
      "\n",
      "\n",
      "\n",
      " 67%|██████▋   | 4/6 [04:00<02:03, 61.55s/it]\u001b[A\u001b[A\u001b[A\u001b[A\u001b[A\n",
      "\n",
      "\n",
      "\n",
      "\n",
      " 83%|████████▎ | 5/6 [04:46<00:56, 56.70s/it]\u001b[A\u001b[A\u001b[A\u001b[A\u001b[A\n",
      "\n",
      "\n",
      "\n",
      "\n",
      "100%|██████████| 6/6 [05:36<00:00, 54.64s/it]\u001b[A\u001b[A\u001b[A\u001b[A\u001b[A\n",
      "\n",
      "\n",
      "\n",
      " 80%|████████  | 4/5 [22:43<05:49, 349.13s/it]\u001b[A\u001b[A\u001b[A\u001b[A\n",
      "\n",
      "\n",
      "\n",
      "\n",
      "  0%|          | 0/6 [00:00<?, ?it/s]\u001b[A\u001b[A\u001b[A\u001b[A\u001b[A/home/li/ML/CS231N/assignment1/cs231n/classifiers/neural_net.py:100: RuntimeWarning: divide by zero encountered in log\n",
      "  loss = -np.sum(np.log(Smax_loss[range(N),list(y)]))/N+0.5*reg*(np.sum(W1*W1)+np.sum(W2*W2))\n",
      "\n",
      "\n",
      "\n",
      "\n",
      "\n",
      " 17%|█▋        | 1/6 [00:51<04:15, 51.00s/it]\u001b[A\u001b[A\u001b[A\u001b[A\u001b[A\n",
      "\n",
      "\n",
      "\n",
      "\n",
      " 33%|███▎      | 2/6 [01:39<03:20, 50.22s/it]\u001b[A\u001b[A\u001b[A\u001b[A\u001b[A\n",
      "\n",
      "\n",
      "\n",
      "\n",
      " 50%|█████     | 3/6 [02:19<02:21, 47.23s/it]\u001b[A\u001b[A\u001b[A\u001b[A\u001b[A\n",
      "\n",
      "\n",
      "\n",
      "\n",
      " 67%|██████▋   | 4/6 [03:06<01:34, 47.22s/it]\u001b[A\u001b[A\u001b[A\u001b[A\u001b[A\n",
      "\n",
      "\n",
      "\n",
      "\n",
      " 83%|████████▎ | 5/6 [03:53<00:46, 46.91s/it]\u001b[A\u001b[A\u001b[A\u001b[A\u001b[A/home/li/ML/CS231N/assignment1/cs231n/classifiers/neural_net.py:98: RuntimeWarning: overflow encountered in subtract\n",
      "  C_score = scores - np.max(scores,axis = 1).reshape(-1,1)\n",
      "/home/li/ML/CS231N/assignment1/cs231n/classifiers/neural_net.py:98: RuntimeWarning: invalid value encountered in subtract\n",
      "  C_score = scores - np.max(scores,axis = 1).reshape(-1,1)\n",
      "/home/li/anaconda3/lib/python3.6/site-packages/numpy/core/_methods.py:32: RuntimeWarning: overflow encountered in reduce\n",
      "  return umr_sum(a, axis, dtype, out, keepdims)\n",
      "/home/li/ML/CS231N/assignment1/cs231n/classifiers/neural_net.py:116: RuntimeWarning: invalid value encountered in greater\n",
      "  id_matrix1 =(id_matrix.dot(W2.T))*(H1>0)\n",
      "\n",
      "\n",
      "\n",
      "\n",
      "\n",
      "100%|██████████| 6/6 [04:38<00:00, 46.41s/it]\u001b[A\u001b[A\u001b[A\u001b[A\u001b[A\n",
      "\n",
      "\n",
      "\n",
      "100%|██████████| 5/5 [27:21<00:00, 327.90s/it]\u001b[A\u001b[A\u001b[A\u001b[A"
     ]
    },
    {
     "name": "stdout",
     "output_type": "stream",
     "text": [
      "train_acc is 0.1456734693877551 , val acc is 0.126\n",
      "train_acc is 0.28155102040816327 , val acc is 0.296\n",
      "train_acc is 0.41185714285714287 , val acc is 0.397\n",
      "train_acc is 0.4323877551020408 , val acc is 0.418\n",
      "train_acc is 0.22110204081632653 , val acc is 0.212\n",
      "train_acc is 0.10044897959183674 , val acc is 0.078\n",
      "train_acc is 0.5205102040816326 , val acc is 0.511\n",
      "train_acc is 0.5578163265306122 , val acc is 0.543\n",
      "train_acc is 0.5660408163265306 , val acc is 0.542\n",
      "train_acc is 0.4463673469387755 , val acc is 0.437\n",
      "train_acc is 0.15977551020408162 , val acc is 0.186\n",
      "train_acc is 0.09961224489795918 , val acc is 0.119\n",
      "train_acc is 0.6388775510204082 , val acc is 0.584\n",
      "train_acc is 0.6373469387755102 , val acc is 0.582\n",
      "train_acc is 0.5820408163265306 , val acc is 0.555\n",
      "train_acc is 0.4103673469387755 , val acc is 0.39\n",
      "train_acc is 0.17324489795918369 , val acc is 0.147\n",
      "train_acc is 0.10004081632653061 , val acc is 0.098\n",
      "train_acc is 0.6627755102040817 , val acc is 0.575\n",
      "train_acc is 0.6096938775510204 , val acc is 0.562\n",
      "train_acc is 0.5406530612244898 , val acc is 0.521\n",
      "train_acc is 0.39246938775510204 , val acc is 0.386\n",
      "train_acc is 0.17330612244897958 , val acc is 0.158\n",
      "train_acc is 0.09985714285714285 , val acc is 0.107\n",
      "train_acc is 0.09995918367346938 , val acc is 0.102\n",
      "train_acc is 0.09995918367346938 , val acc is 0.102\n",
      "train_acc is 0.10004081632653061 , val acc is 0.098\n",
      "train_acc is 0.10026530612244898 , val acc is 0.087\n",
      "train_acc is 0.10042857142857142 , val acc is 0.079\n",
      "train_acc is 0.10026530612244898 , val acc is 0.087\n",
      "best result is 0.584\n"
     ]
    }
   ],
   "source": [
    "from cs231n.classifiers.neural_net import TwoLayerNet\n",
    "\n",
    "input_dim = X_train_feats.shape[1]\n",
    "hidden_dim = 500\n",
    "num_classes = 10\n",
    "\n",
    "net = TwoLayerNet(input_dim, hidden_dim, num_classes)\n",
    "best_net = None\n",
    "\n",
    "################################################################################\n",
    "# TODO: Train a two-layer neural network on image features. You may want to    #\n",
    "# cross-validate various parameters as in previous sections. Store your best   #\n",
    "# model in the best_net variable.                                              #\n",
    "################################################################################\n",
    "results = {}\n",
    "best_val = -1\n",
    "learning_rates = [1e-2 ,1e-1, 5e-1, 1, 5]\n",
    "regularization_strengths = [1e-3, 5e-3, 1e-2, 1e-1, 0.5, 1]\n",
    "\n",
    "for rates in tqdm(learning_rates):\n",
    "    for strengths in tqdm(regularization_strengths):\n",
    "        net.train(X_train_feats,y_train,X_val_feats,y_val,learning_rate = rates,reg = strengths,num_iters = 1500)\n",
    "        train_acc = np.mean(net.predict(X_train_feats) == y_train)\n",
    "        val_acc = np.mean(net.predict(X_val_feats) == y_val)\n",
    "        if val_acc > best_val:\n",
    "            print(\"val acc now is \",val_acc)\n",
    "            best_val = val_acc \n",
    "            best_net = net\n",
    "        results[(rates,strengths)] = train_acc ,val_acc\n",
    "for rates ,strengths in sorted(results):\n",
    "    train_acc ,val_acc = results[(rates,strengths)]\n",
    "    print(\"train_acc is {} , val acc is {}\".format(train_acc,val_acc))\n",
    "print(\"best result is\",best_val)"
   ]
  },
  {
   "cell_type": "code",
   "execution_count": 20,
   "metadata": {},
   "outputs": [
    {
     "name": "stdout",
     "output_type": "stream",
     "text": [
      "0.103\n"
     ]
    }
   ],
   "source": [
    "# Run your best neural net classifier on the test set. You should be able\n",
    "# to get more than 55% accuracy.\n",
    "\n",
    "test_acc = (best_net.predict(X_test_feats) == y_test).mean()\n",
    "print(test_acc)"
   ]
  },
  {
   "cell_type": "code",
   "execution_count": null,
   "metadata": {},
   "outputs": [],
   "source": []
  }
 ],
 "metadata": {
  "kernelspec": {
   "display_name": "Python 3",
   "language": "python",
   "name": "python3"
  },
  "language_info": {
   "codemirror_mode": {
    "name": "ipython",
    "version": 3
   },
   "file_extension": ".py",
   "mimetype": "text/x-python",
   "name": "python",
   "nbconvert_exporter": "python",
   "pygments_lexer": "ipython3",
   "version": "3.6.5"
  }
 },
 "nbformat": 4,
 "nbformat_minor": 1
}
